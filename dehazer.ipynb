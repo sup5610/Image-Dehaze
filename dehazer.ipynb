{
 "cells": [
  {
   "cell_type": "code",
   "execution_count": 79,
   "metadata": {},
   "outputs": [],
   "source": [
    "# import numpy as np\n",
    "# from IPython.display import Image\n",
    "# Image(filename='before_photo.jpg') \n",
    "\n",
    "import numpy as np\n",
    "from PIL import Image\n",
    "from scipy.ndimage import minimum_filter"
   ]
  },
  {
   "cell_type": "code",
   "execution_count": 72,
   "metadata": {},
   "outputs": [],
   "source": [
    "# # [old\n",
    "# before = Image.open(\"before_photo.jpg\") \n",
    "\n",
    "# width, height = before.size\n",
    "\n",
    "# rgb = []\n",
    "# for w in range(width):\n",
    "#     for h in range(height):\n",
    "#         r,g,b = before.getpixel((w,h))\n",
    "\n",
    "#         rgb.append([r,g,b])\n",
    "\n",
    "\n",
    "# min_rgb = []\n",
    "# options = [0,1,2]\n",
    "# zeros = [0,0,0]\n",
    "# for i in range(len(rgb)):\n",
    "#     min_index = np.argmin(rgb[i])\n",
    "#     zeros[min_index] = min(rgb[i])\n",
    "#     min_rgb.append(zeros)\n",
    "#     zeros = [0,0,0]\n",
    "\n",
    "# dark_channel = np.empty((height, width), dtype = object)\n",
    "# for i in range(height):\n",
    "#     for j in range(width):\n",
    "#         dark_channel[i][j] = min_rgb[j + width * i]\n",
    "\n",
    "\n",
    "# dark_channel = Image.fromarray(dark_channel, \"RGB\")\n",
    "# dark_channel.save(\"dark channel.png\")\n",
    "# dark_channel.show()\n"
   ]
  },
  {
   "cell_type": "code",
   "execution_count": 90,
   "metadata": {},
   "outputs": [],
   "source": [
    "before = Image.open(\"before_photo.jpg\") \n",
    "\n",
    "width, height = before.size\n",
    "\n",
    "rgb = []\n",
    "for w in range(width):\n",
    "    for h in range(height):\n",
    "        r,g,b = before.getpixel((w,h))\n",
    "\n",
    "        rgb.append([r,g,b])\n",
    "\n",
    "\n",
    "min_rgb = []\n",
    "for i in range(len(rgb)):\n",
    "    min_rgb.append(min(rgb[i]))\n",
    "\n",
    "\n",
    "dark_channel = np.empty((height, width))\n",
    "for i in range(height):\n",
    "    for j in range(width):\n",
    "        dark_channel[i][j] = min_rgb[j + width * i]\n",
    "\n",
    "\n",
    "# dark_channel = Image.fromarray(dark_channel, \"L\")\n",
    "# dark_channel.save(\"dark channel.png\")\n",
    "# dark_channel.show()\n",
    "\n",
    "kernel_size = 15  # You can adjust the kernel size as needed\n",
    "dark_channel_filtered = minimum_filter(dark_channel, size=kernel_size)\n",
    "dark_channel_image = Image.fromarray(dark_channel_filtered, \"L\")\n",
    "dark_channel_image.save(\"dark channel.png\")\n",
    "dark_channel_image.show()"
   ]
  },
  {
   "cell_type": "code",
   "execution_count": 76,
   "metadata": {},
   "outputs": [
    {
     "name": "stdout",
     "output_type": "stream",
     "text": [
      "550 413\n"
     ]
    }
   ],
   "source": [
    "print(width, height)"
   ]
  },
  {
   "cell_type": "code",
   "execution_count": 135,
   "metadata": {},
   "outputs": [
    {
     "name": "stdout",
     "output_type": "stream",
     "text": [
      "(413, 550)\n"
     ]
    }
   ],
   "source": [
    "image = Image.open('before_photo.jpg')  # Replace with your image path\n",
    "\n",
    "# Convert the image to a NumPy array\n",
    "image_np = np.array(image)\n",
    "\n",
    "# Get the minimum intensity across the R, G, B channels for each pixel\n",
    "dark_channel = np.min(image_np, axis=2)  # This creates a grayscale image\n",
    "\n",
    "# # Apply a minimum filter using scipy.ndimage.minimum_filter\n",
    "kernel_size = 15  # You can adjust the kernel size as needed\n",
    "dark_channel_filtered = minimum_filter(dark_channel, size=kernel_size)\n",
    "\n",
    "# # Convert the result back to a PIL image\n",
    "dark_channel_image = Image.fromarray(dark_channel_filtered)\n",
    "\n",
    "# # Save or show the result\n",
    "dark_channel_image.save('dark channel.png')\n",
    "dark_channel_image.show()"
   ]
  },
  {
   "cell_type": "code",
   "execution_count": 152,
   "metadata": {},
   "outputs": [],
   "source": [
    "# equation\n",
    "transmissionMap = 1 - 0.95 * dark_channel_filtered\n",
    "\n",
    "darkChannelBrightestPixel = 0\n",
    "currentBrightest = 0\n",
    "globalAtmoshpericLight = []\n",
    "c = 0\n",
    "for i in range(width):\n",
    "    for j in range(height):\n",
    "        if dark_channel_filtered[j][i] > currentBrightest:\n",
    "            currentBrightest = dark_channel_filtered[j][i]\n",
    "            darkChannelBrightestPixel = c\n",
    "        c += 1\n",
    "\n",
    "column = c % width - 1\n",
    "row = c // width - 1\n",
    "\n",
    "globalAtmoshpericLight = image_np[row][column]\n",
    "\n",
    "sceneRadiance = ((image_np - globalAtmoshpericLight)/max(transmissionMap.any(), 0.1) + globalAtmoshpericLight).astype(int)\n",
    "after = Image.fromarray(sceneRadiance, \"RGB\")\n",
    "after.save(\"after.png\")\n",
    "after.show()"
   ]
  },
  {
   "cell_type": "code",
   "execution_count": 156,
   "metadata": {},
   "outputs": [
    {
     "name": "stdout",
     "output_type": "stream",
     "text": [
      "Global Atmospheric Light (RGB): [231 229 230]\n",
      "Transmission Map Sample (Top-Left): [[0.1 0.1 0.1 0.1 0.1]\n",
      " [0.1 0.1 0.1 0.1 0.1]\n",
      " [0.1 0.1 0.1 0.1 0.1]\n",
      " [0.1 0.1 0.1 0.1 0.1]\n",
      " [0.1 0.1 0.1 0.1 0.1]]\n",
      "Scene Radiance Sample (Top-Left): [[[2361. 2439. 2550.]\n",
      "  [2361. 2439. 2550.]\n",
      "  [2371. 2449. 2560.]\n",
      "  [2371. 2449. 2560.]\n",
      "  [2371. 2449. 2560.]]\n",
      "\n",
      " [[2361. 2439. 2550.]\n",
      "  [2361. 2439. 2550.]\n",
      "  [2371. 2449. 2560.]\n",
      "  [2371. 2449. 2560.]\n",
      "  [2371. 2449. 2560.]]\n",
      "\n",
      " [[2361. 2449. 2540.]\n",
      "  [2361. 2449. 2540.]\n",
      "  [2371. 2459. 2550.]\n",
      "  [2371. 2459. 2550.]\n",
      "  [2371. 2459. 2550.]]\n",
      "\n",
      " [[2361. 2449. 2540.]\n",
      "  [2361. 2449. 2540.]\n",
      "  [2371. 2459. 2550.]\n",
      "  [2371. 2459. 2550.]\n",
      "  [2371. 2459. 2550.]]\n",
      "\n",
      " [[2361. 2449. 2540.]\n",
      "  [2361. 2449. 2540.]\n",
      "  [2371. 2459. 2550.]\n",
      "  [2371. 2459. 2550.]\n",
      "  [2371. 2459. 2550.]]]\n"
     ]
    }
   ],
   "source": [
    "import numpy as np\n",
    "from PIL import Image\n",
    "\n",
    "# Calculate transmission map and ensure it's clipped to a minimum value\n",
    "transmissionMap = np.clip(1 - 0.95 * dark_channel_filtered, 0.1, 1)\n",
    "\n",
    "# Find the pixel with the brightest value in the dark channel\n",
    "darkChannelBrightestPixel = 0\n",
    "currentBrightest = 0\n",
    "for i in range(width):\n",
    "    for j in range(height):\n",
    "        if dark_channel_filtered[j][i] > currentBrightest:\n",
    "            currentBrightest = dark_channel_filtered[j][i]\n",
    "            darkChannelBrightestPixel = (j, i)\n",
    "\n",
    "# Extract the atmospheric light from the original image using the brightest pixel from the dark channel\n",
    "row, column = darkChannelBrightestPixel\n",
    "globalAtmosphericLight = image_np[row, column]  # This will be a 3-channel RGB value\n",
    "\n",
    "# Debug: Print the global atmospheric light to check the value\n",
    "print(\"Global Atmospheric Light (RGB):\", globalAtmosphericLight)\n",
    "\n",
    "# Ensure atmospheric light is reshaped and broadcasted correctly\n",
    "atmospheric_light_broadcast = np.reshape(globalAtmosphericLight, (1, 1, 3))\n",
    "\n",
    "# Debug: Print a small part of the transmission map\n",
    "print(\"Transmission Map Sample (Top-Left):\", transmissionMap[0:5, 0:5])\n",
    "\n",
    "# Recover the scene radiance, applying the transmission map per channel (RGB)\n",
    "sceneRadiance = (image_np - atmospheric_light_broadcast) / np.maximum(transmissionMap[:, :, np.newaxis], 0.1) + atmospheric_light_broadcast\n",
    "\n",
    "# Debug: Print the scene radiance values before clipping\n",
    "print(\"Scene Radiance Sample (Top-Left):\", sceneRadiance[0:5, 0:5])\n",
    "\n",
    "# Clip values to ensure they're within valid image range (0-255)\n",
    "sceneRadiance = np.clip(sceneRadiance, 0, 255).astype(np.uint8)\n",
    "\n",
    "# Save and display the result\n",
    "after = Image.fromarray(sceneRadiance, \"RGB\")\n",
    "after.save(\"after.png\")\n",
    "after.show()\n"
   ]
  },
  {
   "cell_type": "code",
   "execution_count": 7,
   "metadata": {},
   "outputs": [
    {
     "name": "stdout",
     "output_type": "stream",
     "text": [
      "188 194 206\n"
     ]
    }
   ],
   "source": [
    "attenuatuionCoefficient = -0.007\n",
    "sceneDepth = 300\n",
    "transitionMap = np.e ** -(attenuatuionCoefficient * sceneDepth)\n",
    "\n",
    "\n",
    "\n",
    "print(r,g,b)"
   ]
  }
 ],
 "metadata": {
  "kernelspec": {
   "display_name": "Python 3",
   "language": "python",
   "name": "python3"
  },
  "language_info": {
   "codemirror_mode": {
    "name": "ipython",
    "version": 3
   },
   "file_extension": ".py",
   "mimetype": "text/x-python",
   "name": "python",
   "nbconvert_exporter": "python",
   "pygments_lexer": "ipython3",
   "version": "3.12.3"
  }
 },
 "nbformat": 4,
 "nbformat_minor": 2
}
