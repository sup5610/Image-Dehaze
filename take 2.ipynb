{
 "cells": [
  {
   "cell_type": "code",
   "execution_count": 2,
   "metadata": {},
   "outputs": [],
   "source": [
    "import numpy as np\n",
    "from PIL import Image\n",
    "from scipy.ndimage import minimum_filter"
   ]
  },
  {
   "cell_type": "code",
   "execution_count": 3,
   "metadata": {},
   "outputs": [],
   "source": [
    "originalPhoto = Image.open(\"before_photo.jpg\")\n",
    "before = Image.open(\"before_photo.jpg\")\n",
    "width, height = before.size\n",
    "\n",
    "# photo to array\n",
    "before = np.array(before)\n",
    "# getting dark channel and kernel filtering\n",
    "darkChannel = np.min(before, axis = 2)\n",
    "kernel_size = 15\n",
    "dark_channel_filtered = minimum_filter(darkChannel, size=kernel_size)\n",
    "\n",
    "# getting dark channel pixel values\n",
    "pixelValues = []\n",
    "for i in range(width):\n",
    "    for j in range(height):\n",
    "        pixelValues.append(darkChannel[j][i])\n",
    "\n",
    "validBrightness = sorted(pixelValues)\n",
    "validBrightness = validBrightness[len(validBrightness) - 1 - int(0.01 * len(validBrightness)):]\n",
    "\n",
    "# getting highest intensity pixel indicies in dark channel\n",
    "brightestDarkChannelPixelIndex = []\n",
    "\n",
    "for i in range(len(pixelValues)):\n",
    "    if pixelValues[i] >= validBrightness[0]:\n",
    "        brightestDarkChannelPixelIndex.append((i % width, i // width))\n",
    "\n",
    "# getting corresponding rgb intensities of listed indices from the dark channel\n",
    "brightestPixels = []\n",
    "for i in brightestDarkChannelPixelIndex:\n",
    "    r,g,b = originalPhoto.getpixel((i[0], i[1]))\n",
    "    brightestPixels.append([r,g,b])\n",
    "\n",
    "# darkChannel = Image.fromarray(darkChannel)\n",
    "# darkChannel.save(\"dark channel.png\")\n",
    "# darkChannel.show()\n",
    "\n",
    "# getting the pixel with the highest r, g and b values\n",
    "highestR = 0\n",
    "highestG = 0\n",
    "highestB = 0\n",
    "for i in range(len(brightestPixels)):\n",
    "    if brightestPixels[i][0] > highestR:\n",
    "        highestR = i\n",
    "    if brightestPixels[i][1] > highestG:\n",
    "        highestG = i\n",
    "    if brightestPixels[i][2] > highestB:\n",
    "        highestB = i\n",
    "\n",
    "brightestRPixel = np.reshape(list(originalPhoto.getpixel((highestR % width, highestR // width))), (1,1,3))\n",
    "brightestGPixel = np.reshape(list(originalPhoto.getpixel((highestG % width, highestG // width))), (1,1,3))\n",
    "brightestBPixel = np.reshape(list(originalPhoto.getpixel((highestB % width, highestB // width))), (1,1,3))\n",
    "\n",
    "# getting global atmospheric light\n",
    "globalAtmosphericLightOptions = [brightestRPixel, brightestGPixel, brightestBPixel]\n",
    "\n",
    "# creating transmission map[]\n",
    "transmissionMap = []\n",
    "for i in range(height):\n",
    "    temp = []\n",
    "    for j in range(width):\n",
    "        temp.append(1 - 0.95 * darkChannel[i][j])\n",
    "    transmissionMap.append(temp)\n",
    "transmissionMap = np.array(transmissionMap)\n",
    "transmissionMap = transmissionMap[:, :, np.newaxis]\n",
    "\n",
    "sceneRadiance = (before - globalAtmosphericLightOptions[1])/np.maximum(transmissionMap, 0.1) + globalAtmosphericLightOptions[1]\n",
    "\n",
    "sceneRadiance = Image.fromarray(sceneRadiance, \"RGB\")\n",
    "sceneRadiance.save(\"after.png\")\n",
    "sceneRadiance.show()"
   ]
  },
  {
   "cell_type": "code",
   "execution_count": 151,
   "metadata": {},
   "outputs": [
    {
     "name": "stdout",
     "output_type": "stream",
     "text": [
      "[181 162 158]\n",
      "[212, 217, 221]\n",
      "[-31 -55 -63]\n"
     ]
    }
   ],
   "source": [
    "# transmissionMap = Image.fromarray(transmissionMap, \"L\")\n",
    "# transmissionMap.save(\"transmission map.png\")\n",
    "# transmissionMap.show()\n",
    "\n",
    "print(before[200][300])\n",
    "print(globalAtmosphericLightOptions[0])\n",
    "after = before - globalAtmosphericLightOptions[0]\n",
    "print(after[200][300])\n",
    "# transmissionMap"
   ]
  }
 ],
 "metadata": {
  "kernelspec": {
   "display_name": "Python 3",
   "language": "python",
   "name": "python3"
  },
  "language_info": {
   "codemirror_mode": {
    "name": "ipython",
    "version": 3
   },
   "file_extension": ".py",
   "mimetype": "text/x-python",
   "name": "python",
   "nbconvert_exporter": "python",
   "pygments_lexer": "ipython3",
   "version": "3.12.3"
  }
 },
 "nbformat": 4,
 "nbformat_minor": 2
}
